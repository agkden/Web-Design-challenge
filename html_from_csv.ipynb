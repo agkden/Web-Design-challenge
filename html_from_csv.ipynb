{
 "cells": [
  {
   "cell_type": "code",
   "execution_count": 1,
   "metadata": {},
   "outputs": [],
   "source": [
    "import pandas as pd"
   ]
  },
  {
   "cell_type": "code",
   "execution_count": 2,
   "metadata": {},
   "outputs": [
    {
     "data": {
      "text/html": [
       "<div>\n",
       "<style scoped>\n",
       "    .dataframe tbody tr th:only-of-type {\n",
       "        vertical-align: middle;\n",
       "    }\n",
       "\n",
       "    .dataframe tbody tr th {\n",
       "        vertical-align: top;\n",
       "    }\n",
       "\n",
       "    .dataframe thead th {\n",
       "        text-align: right;\n",
       "    }\n",
       "</style>\n",
       "<table border=\"1\" class=\"dataframe\">\n",
       "  <thead>\n",
       "    <tr style=\"text-align: right;\">\n",
       "      <th></th>\n",
       "      <th>City</th>\n",
       "      <th>Lat</th>\n",
       "      <th>Lng</th>\n",
       "      <th>Max Temp</th>\n",
       "      <th>Humidity</th>\n",
       "      <th>Cloudiness</th>\n",
       "      <th>Wind Speed</th>\n",
       "      <th>Country</th>\n",
       "      <th>Weather Date</th>\n",
       "    </tr>\n",
       "  </thead>\n",
       "  <tbody>\n",
       "    <tr>\n",
       "      <th>0</th>\n",
       "      <td>Saint Anthony</td>\n",
       "      <td>45.0205</td>\n",
       "      <td>-93.2180</td>\n",
       "      <td>26.01</td>\n",
       "      <td>68</td>\n",
       "      <td>90</td>\n",
       "      <td>9.22</td>\n",
       "      <td>US</td>\n",
       "      <td>1611994745</td>\n",
       "    </tr>\n",
       "    <tr>\n",
       "      <th>1</th>\n",
       "      <td>Rikitea</td>\n",
       "      <td>-23.1203</td>\n",
       "      <td>-134.9692</td>\n",
       "      <td>79.38</td>\n",
       "      <td>75</td>\n",
       "      <td>7</td>\n",
       "      <td>11.23</td>\n",
       "      <td>PF</td>\n",
       "      <td>1611994745</td>\n",
       "    </tr>\n",
       "    <tr>\n",
       "      <th>2</th>\n",
       "      <td>Bangui</td>\n",
       "      <td>4.3612</td>\n",
       "      <td>18.5550</td>\n",
       "      <td>75.20</td>\n",
       "      <td>83</td>\n",
       "      <td>20</td>\n",
       "      <td>5.75</td>\n",
       "      <td>CF</td>\n",
       "      <td>1611994745</td>\n",
       "    </tr>\n",
       "    <tr>\n",
       "      <th>3</th>\n",
       "      <td>Chicama</td>\n",
       "      <td>-7.8447</td>\n",
       "      <td>-79.1469</td>\n",
       "      <td>72.21</td>\n",
       "      <td>69</td>\n",
       "      <td>98</td>\n",
       "      <td>4.65</td>\n",
       "      <td>PE</td>\n",
       "      <td>1611994642</td>\n",
       "    </tr>\n",
       "    <tr>\n",
       "      <th>4</th>\n",
       "      <td>Punta Arenas</td>\n",
       "      <td>-53.1500</td>\n",
       "      <td>-70.9167</td>\n",
       "      <td>44.60</td>\n",
       "      <td>76</td>\n",
       "      <td>40</td>\n",
       "      <td>5.75</td>\n",
       "      <td>CL</td>\n",
       "      <td>1611994745</td>\n",
       "    </tr>\n",
       "  </tbody>\n",
       "</table>\n",
       "</div>"
      ],
      "text/plain": [
       "            City      Lat       Lng  Max Temp  Humidity  Cloudiness  \\\n",
       "0  Saint Anthony  45.0205  -93.2180     26.01        68          90   \n",
       "1        Rikitea -23.1203 -134.9692     79.38        75           7   \n",
       "2         Bangui   4.3612   18.5550     75.20        83          20   \n",
       "3        Chicama  -7.8447  -79.1469     72.21        69          98   \n",
       "4   Punta Arenas -53.1500  -70.9167     44.60        76          40   \n",
       "\n",
       "   Wind Speed Country  Weather Date  \n",
       "0        9.22      US    1611994745  \n",
       "1       11.23      PF    1611994745  \n",
       "2        5.75      CF    1611994745  \n",
       "3        4.65      PE    1611994642  \n",
       "4        5.75      CL    1611994745  "
      ]
     },
     "execution_count": 2,
     "metadata": {},
     "output_type": "execute_result"
    }
   ],
   "source": [
    "# read csv file to a dataframe\n",
    "cities_df = pd.read_csv(\"Resources/cities_data.csv\", index_col=0)\n",
    "cities_df.head()"
   ]
  },
  {
   "cell_type": "code",
   "execution_count": 3,
   "metadata": {},
   "outputs": [],
   "source": [
    "# generate HTML table from the dataframe\n",
    "cities_df.to_html(\"Resources/cities_table.html\")"
   ]
  }
 ],
 "metadata": {
  "kernelspec": {
   "display_name": "Python 3",
   "language": "python",
   "name": "python3"
  },
  "language_info": {
   "codemirror_mode": {
    "name": "ipython",
    "version": 3
   },
   "file_extension": ".py",
   "mimetype": "text/x-python",
   "name": "python",
   "nbconvert_exporter": "python",
   "pygments_lexer": "ipython3",
   "version": "3.8.5"
  }
 },
 "nbformat": 4,
 "nbformat_minor": 4
}
